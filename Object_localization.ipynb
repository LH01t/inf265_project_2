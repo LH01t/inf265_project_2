{
 "cells": [
  {
   "cell_type": "code",
   "execution_count": 74,
   "metadata": {},
   "outputs": [],
   "source": [
    "import torch\n",
    "import torch.nn as nn\n",
    "import torch.nn.functional as F\n",
    "import torch.optim as optim\n",
    "from torch.utils.data import DataLoader, Dataset\n",
    "from torchvision import transforms\n",
    "import matplotlib.pyplot as plt\n",
    "from math import ceil, floor\n",
    "from datetime import datetime \n",
    "torch.manual_seed(123)\n",
    "from tqdm import tqdm\n",
    "import numpy as np\n",
    "import random\n",
    "from torchvision.utils import draw_bounding_boxes\n",
    "import itertools"
   ]
  },
  {
   "cell_type": "markdown",
   "metadata": {},
   "source": [
    "### Model 1 - CNN with one fc layer at the end"
   ]
  },
  {
   "cell_type": "code",
   "execution_count": 75,
   "metadata": {},
   "outputs": [
    {
     "name": "stdout",
     "output_type": "stream",
     "text": [
      "Training on device cpu.\n"
     ]
    }
   ],
   "source": [
    "device = (torch.device('cuda') if torch.cuda.is_available() else torch.device('cpu'))\n",
    "print(f\"Training on device {device}.\")\n",
    "\n",
    "class CNN_1(nn.Module):\n",
    "    def __init__(self, in_channels = 1, out_channels = 15): #out_channel [p, x, y, w, h, c_0, ..., c_10] = 15\n",
    "        super().__init__()\n",
    "        # image dimension: 48x60\n",
    "\n",
    "        self.conv1 = nn.Conv2d(in_channels, 4, kernel_size=3, stride=1, padding=1) #size: 48x60\n",
    "        self.conv2 = nn.Conv2d(4, 8, kernel_size=3, stride=1, padding=1) #size: 48x60\n",
    "        self.max_pool = nn.MaxPool2d(kernel_size=2, stride=2) #size: 24x30\n",
    "        self.conv3 = nn.Conv2d(8, 16, kernel_size=3, stride=1, padding=1) #size: 24x30\n",
    "        self.conv4 = nn.Conv2d(16, 32, kernel_size=3, stride=1, padding=1) #size: 24x30\n",
    "        # max_pool, size: 12x15\n",
    "        self.conv5 = nn.Conv2d(32, 16, kernel_size=(3,2), stride=1, padding=1) #size: 12x16\n",
    "        # max_pool, size: 6x8\n",
    "        self.conv6 = nn.Conv2d(16, 8, kernel_size=3, stride=1, padding=1) #size: 6x8\n",
    "        # max_pool, size: 3x4\n",
    "        self.conv7 = nn.Conv2d(8, 4, kernel_size=3, stride=1, padding=1) #size: 3x4\n",
    "\n",
    "        # fully connected layer at the end ?\n",
    "        self.fc = nn.Linear(4*3*4, out_channels) #48x15\n",
    "\n",
    "    def forward(self, x):\n",
    "        out = self.conv1(x)\n",
    "        out = F.relu(out)\n",
    "        out = self.conv2(out)\n",
    "        out = F.relu(out)\n",
    "        out = self.max_pool(out)\n",
    "        out = self.conv3(out)\n",
    "        out = F.relu(out)\n",
    "        out = self.conv4(out)\n",
    "        out = F.relu(out)\n",
    "        out = self.max_pool(out)\n",
    "        out = self.conv5(out)\n",
    "        out = F.relu(out)\n",
    "        out = self.max_pool(out)\n",
    "        out = self.conv6(out)\n",
    "        out = F.relu(out)\n",
    "        out = self.max_pool(out)\n",
    "        out = self.conv7(out)\n",
    "        out = F.relu(out)\n",
    "\n",
    "        out = out.view(-1, out.shape[-3]*out.shape[-2]*out.shape[-1]) #flatten the dimensions to fit the fully connected layer\n",
    "        out = self.fc(out)\n",
    "        return out"
   ]
  },
  {
   "cell_type": "markdown",
   "metadata": {},
   "source": [
    "### Model 2 - Only convolutional layers "
   ]
  },
  {
   "cell_type": "code",
   "execution_count": 76,
   "metadata": {},
   "outputs": [],
   "source": [
    "class MyConvOnlyCNN(nn.Module):\n",
    "    def __init__(self):\n",
    "        super(MyConvOnlyCNN, self).__init__()\n",
    "        self.features = nn.Sequential(\n",
    "            # Input: (batch_size, 1, 48, 60)\n",
    "            nn.Conv2d(1, 32, kernel_size=3, padding=1),  # -> (batch_size, 32, 48, 60)\n",
    "            nn.ReLU(),\n",
    "            nn.MaxPool2d(kernel_size=2, stride=2),        # -> (batch_size, 32, 24, 30)\n",
    "            \n",
    "            nn.Conv2d(32, 64, kernel_size=3, padding=1),  # -> (batch_size, 64, 24, 30)\n",
    "            nn.ReLU(),\n",
    "            nn.MaxPool2d(kernel_size=2, stride=2),        # -> (batch_size, 64, 12, 15)\n",
    "            \n",
    "            nn.Conv2d(64, 128, kernel_size=3, padding=1), # -> (batch_size, 128, 12, 15)\n",
    "            nn.ReLU(),\n",
    "            nn.MaxPool2d(kernel_size=2, stride=2)         # -> (batch_size, 128, 6, 7)\n",
    "        )\n",
    "        \n",
    "        # Final convolution with a kernel that spans the entire spatial size (6x7)\n",
    "        # This produces an output of shape (batch_size, 15, 1, 1)\n",
    "        self.conv_out = nn.Conv2d(128, 15, kernel_size=(6, 7))\n",
    "    \n",
    "    def forward(self, x):\n",
    "        x = self.features(x)\n",
    "        x = self.conv_out(x)\n",
    "        x = x.view(x.size(0), -1)  # Flatten to shape (batch_size, 15)\n",
    "        return x"
   ]
  },
  {
   "cell_type": "markdown",
   "metadata": {},
   "source": [
    "### Model 3 - Residual network"
   ]
  },
  {
   "cell_type": "code",
   "execution_count": 77,
   "metadata": {},
   "outputs": [],
   "source": [
    "class ResidualBlock(nn.Module):\n",
    "    \"\"\"\n",
    "    A single residual block with two Conv-BN-ReLU sequences\n",
    "    and a skip connection: output = ReLU( x + F(x) ).\n",
    "    \"\"\"\n",
    "    def __init__(self, in_channels, out_channels, kernel_size=3, stride=1):\n",
    "        super(ResidualBlock, self).__init__()\n",
    "        \n",
    "        padding = kernel_size // 2 # ensures height/witdh remains the same when stride = 1\n",
    "\n",
    "        self.conv1 = nn.Conv2d(in_channels, out_channels, \n",
    "                               kernel_size=kernel_size, \n",
    "                               stride=stride, \n",
    "                               padding=padding, \n",
    "                               bias=False)\n",
    "        self.bn1 = nn.BatchNorm2d(out_channels)\n",
    "        \n",
    "        self.conv2 = nn.Conv2d(out_channels, out_channels, \n",
    "                               kernel_size=kernel_size, \n",
    "                               stride=1, \n",
    "                               padding=padding, \n",
    "                               bias=False)\n",
    "        self.bn2 = nn.BatchNorm2d(out_channels)\n",
    "\n",
    "        # needed if input and output have different shapes \n",
    "        # applying a 1 x 1 convolution reshapes the input to the correct dimension\n",
    "        self.shortcut = nn.Sequential()\n",
    "        if (stride != 1) or (in_channels != out_channels):\n",
    "            self.shortcut = nn.Sequential(\n",
    "                nn.Conv2d(in_channels, out_channels, \n",
    "                          kernel_size=1, \n",
    "                          stride=stride, \n",
    "                          bias=False),\n",
    "                nn.BatchNorm2d(out_channels)\n",
    "            )\n",
    "\n",
    "    def forward(self, x):\n",
    "        # saves original input x\n",
    "        identity = x \n",
    "\n",
    "        # First convolution\n",
    "        out = self.conv1(x)\n",
    "        out = self.bn1(out)\n",
    "        out = F.relu(out)\n",
    "        \n",
    "        # Second convolution\n",
    "        out = self.conv2(out)\n",
    "        out = self.bn2(out)\n",
    "        \n",
    "        # Applies the shortcut if needed\n",
    "        identity = self.shortcut(identity)\n",
    "        \n",
    "        # Add skip connection\n",
    "        out += identity\n",
    "        out = F.relu(out)\n",
    "        \n",
    "        return out\n",
    "\n",
    "class SimpleResNet(nn.Module):\n",
    "    def __init__(self, out_channels=15):\n",
    "        \"\"\"\n",
    "        ResNet-like model that ends with a final output of dimension 15.\n",
    "        \"\"\"\n",
    "        super().__init__()\n",
    "\n",
    "        # Stage 1: 1 -> 4 -> 8 channels, then pool\n",
    "        self.block1 = ResidualBlock(1, 4)\n",
    "        self.block2 = ResidualBlock(4, 8)\n",
    "        self.pool1 = nn.MaxPool2d(kernel_size=2, stride=2)  # 48×60 -> 24×30\n",
    "\n",
    "        # Stage 2: 8 -> 16 -> 32, then pool\n",
    "        self.block3 = ResidualBlock(8, 16)\n",
    "        self.block4 = ResidualBlock(16, 32)\n",
    "        self.pool2 = nn.MaxPool2d(kernel_size=2, stride=2)  # 24×30 -> 12×15\n",
    "\n",
    "        # Stage 3: conv (3,2) from 32 -> 16, then pool\n",
    "        # (replicates conv5 in your original network)\n",
    "        self.conv5 = nn.Conv2d(32, 16, kernel_size=(3,2), \n",
    "                               stride=1, padding=(1,1), \n",
    "                               bias=False)\n",
    "        self.pool3 = nn.MaxPool2d(kernel_size=2, stride=2)  # 12×?? -> 6×8\n",
    "\n",
    "        # Stage 4: 16 -> 8, then pool\n",
    "        self.block5 = ResidualBlock(16, 8)\n",
    "        self.pool4 = nn.MaxPool2d(kernel_size=2, stride=2)  # 6×8 -> 3×4\n",
    "\n",
    "        # Final block: 8 -> 4\n",
    "        self.block6 = ResidualBlock(8, 4)\n",
    "\n",
    "        # FC: flatten from [batch_size, 4, 3, 4] -> 48, then output 15\n",
    "        self.fc = nn.Linear(4 * 3 * 4, out_channels)\n",
    "\n",
    "    def forward(self, x):\n",
    "        # Stage 1\n",
    "        out = self.block1(x)\n",
    "        out = self.block2(out)\n",
    "        out = self.pool1(out)\n",
    "\n",
    "        # Stage 2\n",
    "        out = self.block3(out)\n",
    "        out = self.block4(out)\n",
    "        out = self.pool2(out)\n",
    "\n",
    "        # Stage 3\n",
    "        out = self.conv5(out)\n",
    "        out = F.relu(out)\n",
    "        out = self.pool3(out)\n",
    "\n",
    "        # Stage 4\n",
    "        out = self.block5(out)\n",
    "        out = self.pool4(out)\n",
    "\n",
    "        # Final block\n",
    "        out = self.block6(out)\n",
    "\n",
    "        # Flatten to [batch_size, 48], then FC -> 15\n",
    "        out = out.view(out.size(0), -1)\n",
    "        out = self.fc(out)\n",
    "        return out"
   ]
  },
  {
   "cell_type": "markdown",
   "metadata": {},
   "source": [
    "## Localization loss function\n"
   ]
  },
  {
   "cell_type": "code",
   "execution_count": 78,
   "metadata": {},
   "outputs": [],
   "source": [
    "def localization_loss(y_pred, y_true):\n",
    "    \"\"\"\n",
    "    Calculates the detection loss, localization loss and classification loss.\n",
    "    Returns a total loss\n",
    "    \"\"\"\n",
    "    # Detection loss\n",
    "    L_A = nn.BCEWithLogitsLoss()\n",
    "    # Bounding box loss (localization loss)\n",
    "    L_B = nn.MSELoss()\n",
    "    # Classification loss\n",
    "    L_C = nn.CrossEntropyLoss()\n",
    "\n",
    "    # er dette nødvendig egentlig ?? Se om crossentropy loss regnes riktig uten å endre på y_true\n",
    "    # change format of y_true from [p, x, y, w, h, c] to [p, x, y, w, h, c_1, ..., c_10]\n",
    "    #c = y_true[:, 5].long()  # get the class index\n",
    "    #y_true_one_hot = torch.zeros(y_true.size(0), 10, device=y_true.device)  # create a zero tensor for one-hot encoding, device = device ?\n",
    "    #y_true_one_hot.scatter_(1, c.unsqueeze(1), 1)  # set the corresponding class index to 1\n",
    "    #y_true = torch.cat([y_true[:, :5], y_true_one_hot], dim=1)  # concatenate the one-hot encoded classes with the rest of y_true\n",
    "\n",
    "    \n",
    "    return torch.where(\n",
    "        # if there is an object; calculate input\n",
    "        condition=y_true[:, 0].bool(), \n",
    "\n",
    "        # L = L_A + L_B + L_C, when object is detected\n",
    "        input= L_A(y_pred[:, :1], y_true[:, :1]) + \n",
    "        L_B(y_pred[:, 1:5], y_true[:, 1:5]) + \n",
    "        L_C(y_pred[:, 5:], y_true[:, 5].long()),\n",
    "\n",
    "        # L = L_A, when object is not detected\n",
    "        other= L_A(y_pred[:, :1], y_true[:, :1])\n",
    "    ).mean()\n",
    "\n",
    "\n"
   ]
  },
  {
   "cell_type": "markdown",
   "metadata": {},
   "source": [
    "### Load data and preprocessing"
   ]
  },
  {
   "cell_type": "code",
   "execution_count": 79,
   "metadata": {},
   "outputs": [
    {
     "name": "stderr",
     "output_type": "stream",
     "text": [
      "/var/folders/6t/376dzz3552sbcyyx1b7h7yfm0000gn/T/ipykernel_16299/1951912206.py:5: FutureWarning: You are using `torch.load` with `weights_only=False` (the current default value), which uses the default pickle module implicitly. It is possible to construct malicious pickle data which will execute arbitrary code during unpickling (See https://github.com/pytorch/pytorch/blob/main/SECURITY.md#untrusted-models for more details). In a future release, the default value for `weights_only` will be flipped to `True`. This limits the functions that could be executed during unpickling. Arbitrary objects will no longer be allowed to be loaded via this mode unless they are explicitly allowlisted by the user via `torch.serialization.add_safe_globals`. We recommend you start setting `weights_only=True` for any use case where you don't have full control of the loaded file. Please open an issue on GitHub for any issues related to this experimental feature.\n",
      "  data_train = torch.load(path + \"train.pt\")\n",
      "/var/folders/6t/376dzz3552sbcyyx1b7h7yfm0000gn/T/ipykernel_16299/1951912206.py:6: FutureWarning: You are using `torch.load` with `weights_only=False` (the current default value), which uses the default pickle module implicitly. It is possible to construct malicious pickle data which will execute arbitrary code during unpickling (See https://github.com/pytorch/pytorch/blob/main/SECURITY.md#untrusted-models for more details). In a future release, the default value for `weights_only` will be flipped to `True`. This limits the functions that could be executed during unpickling. Arbitrary objects will no longer be allowed to be loaded via this mode unless they are explicitly allowlisted by the user via `torch.serialization.add_safe_globals`. We recommend you start setting `weights_only=True` for any use case where you don't have full control of the loaded file. Please open an issue on GitHub for any issues related to this experimental feature.\n",
      "  data_val = torch.load(path + \"val.pt\")\n",
      "/var/folders/6t/376dzz3552sbcyyx1b7h7yfm0000gn/T/ipykernel_16299/1951912206.py:7: FutureWarning: You are using `torch.load` with `weights_only=False` (the current default value), which uses the default pickle module implicitly. It is possible to construct malicious pickle data which will execute arbitrary code during unpickling (See https://github.com/pytorch/pytorch/blob/main/SECURITY.md#untrusted-models for more details). In a future release, the default value for `weights_only` will be flipped to `True`. This limits the functions that could be executed during unpickling. Arbitrary objects will no longer be allowed to be loaded via this mode unless they are explicitly allowlisted by the user via `torch.serialization.add_safe_globals`. We recommend you start setting `weights_only=True` for any use case where you don't have full control of the loaded file. Please open an issue on GitHub for any issues related to this experimental feature.\n",
      "  data_test = torch.load(path + \"test.pt\")\n"
     ]
    },
    {
     "data": {
      "image/png": "[encoded data removed]",
      "text/plain": [
       "<Figure size 600x400 with 1 Axes>"
      ]
     },
     "metadata": {},
     "output_type": "display_data"
    },
    {
     "data": {
      "image/png": "[encoded data removed]",
      "text/plain": [
       "<Figure size 640x480 with 1 Axes>"
      ]
     },
     "metadata": {},
     "output_type": "display_data"
    },
    {
     "data": {
      "image/png": "[encoded data removed]",
      "text/plain": [
       "<Figure size 640x480 with 1 Axes>"
      ]
     },
     "metadata": {},
     "output_type": "display_data"
    },
    {
     "data": {
      "image/png": "[encoded data removed]",
      "text/plain": [
       "<Figure size 640x480 with 1 Axes>"
      ]
     },
     "metadata": {},
     "output_type": "display_data"
    },
    {
     "data": {
      "image/png": "[encoded data removed]",
      "text/plain": [
       "<Figure size 640x480 with 1 Axes>"
      ]
     },
     "metadata": {},
     "output_type": "display_data"
    },
    {
     "data": {
      "image/png": "[encoded data removed]",
      "text/plain": [
       "<Figure size 800x500 with 1 Axes>"
      ]
     },
     "metadata": {},
     "output_type": "display_data"
    },
    {
     "data": {
      "text/plain": [
       "{0.0: 5345,\n",
       " 1.0: 11475,\n",
       " 2.0: 5365,\n",
       " 3.0: 5522,\n",
       " 4.0: 5243,\n",
       " 5.0: 4889,\n",
       " 6.0: 5310,\n",
       " 7.0: 5644,\n",
       " 8.0: 5249,\n",
       " 9.0: 5358}"
      ]
     },
     "execution_count": 79,
     "metadata": {},
     "output_type": "execute_result"
    }
   ],
   "source": [
    "def load_data(path=\"data/localization_\"):\n",
    "    \"\"\"\n",
    "    Load data from path, return train, val, test\n",
    "    \"\"\"\n",
    "    data_train = torch.load(path + \"train.pt\")\n",
    "    data_val = torch.load(path + \"val.pt\")\n",
    "    data_test = torch.load(path + \"test.pt\")\n",
    "\n",
    "\n",
    "    return data_train, data_val, data_test\n",
    "\n",
    "\n",
    "def data_distribution(data):\n",
    "    \"\"\"\n",
    "    Plots the distribution of the given data across the labels with labels and counts.\n",
    "    \"\"\"\n",
    "    \n",
    "    labels = [label[5] for _, label in data]  # Assuming label[5] contains the class label\n",
    "    \n",
    "    # Calculate distribution using numpy\n",
    "    unique_labels, counts = np.unique(labels, return_counts=True)\n",
    "    distribution = dict(zip(unique_labels, counts))\n",
    "    \n",
    "    x_labels = [str(int(label)) for label in unique_labels]  # Convert to string for plotting\n",
    "    \n",
    "    # Visualize the label distribution using a bar chart\n",
    "    plt.figure(figsize=(8, 5))\n",
    "    bars = plt.bar(x_labels, counts, color='skyblue')\n",
    "    \n",
    "    # Add text on top of each bar to display count\n",
    "    for bar, count, label in zip(bars, counts, x_labels):\n",
    "        plt.text(bar.get_x() + bar.get_width()/2, bar.get_height() + 0.5, \n",
    "                 f\"{count}\", ha='center', va='bottom', fontsize=10)\n",
    "\n",
    "    plt.xlabel('Labels')\n",
    "    plt.ylabel('Frequency')\n",
    "    plt.title('Data Distribution')\n",
    "    plt.show()\n",
    "    \n",
    "    return distribution\n",
    "\n",
    "\n",
    "def visualize_random_images(data, num_images):\n",
    "    \"\"\"\n",
    "    Visualizes random images from the data\n",
    "    \"\"\"\n",
    "    indices = random.sample(range(len(data)), num_images)\n",
    "    samples = [data[i] for i in indices]\n",
    "    # Set up the figure\n",
    "    plt.figure(figsize=(6, 4))\n",
    "    \n",
    "    # Loop over the selected samples\n",
    "    for i, (img, label) in enumerate(samples):\n",
    "        digit = int(label[5])\n",
    "        x, y, w, h = label[1], label[2], label[3], label[4]\n",
    "        \n",
    "\n",
    "        plt.subplot(1, num_images, i+1)\n",
    "        \n",
    "        # If the image is a tensor, convert it to a numpy array for plotting.\n",
    "        if torch.is_tensor(img):\n",
    "            # Convert from (C, H, W) to (H, W, C)\n",
    "            img = img.permute(1, 2, 0).numpy()\n",
    "            \n",
    "        plt.imshow(img)\n",
    "        title_str = f\"Label: {digit}\\nx: {x:.3f}, y: {y:.3f}\\n{w:.3f} x {h:.3f}\"\n",
    "        plt.title(title_str)\n",
    "        plt.axis('off')\n",
    "    \n",
    "        plt.tight_layout()\n",
    "        plt.show()\n",
    "\n",
    "train_data, val_data, test_data = load_data()\n",
    "\n",
    "visualize_random_images(train_data, 5)\n",
    "data_distribution(train_data)"
   ]
  },
  {
   "cell_type": "markdown",
   "metadata": {},
   "source": [
    "### Normalize Images"
   ]
  },
  {
   "cell_type": "code",
   "execution_count": 80,
   "metadata": {},
   "outputs": [
    {
     "name": "stdout",
     "output_type": "stream",
     "text": [
      "Mean: tensor([0.4171])\n",
      "Std: tensor([0.2138])\n"
     ]
    }
   ],
   "source": [
    "\n",
    "def mean_std(data):\n",
    "    \"\"\"\n",
    "    Calculate the mean and standard deviation of the data.\n",
    "    \"\"\"\n",
    "    img, _ = data.tensors\n",
    "    img = img.float()\n",
    "    mean = img.mean(dim=(0, 2, 3))\n",
    "    std = img.std(dim=(0, 2, 3))\n",
    "\n",
    "    return mean, std\n",
    "\n",
    "\n",
    "# Lasse sin kode\n",
    "class LocalizationDataset(Dataset):\n",
    "    def __init__(self, data, preprocessor=None):\n",
    "        self.data = data\n",
    "        self.preprocessor = preprocessor\n",
    "\n",
    "    def __len__(self):\n",
    "        return len(self.data)\n",
    "\n",
    "    def __getitem__(self, index):\n",
    "        image, label = self.data[index]\n",
    "        \n",
    "        if self.preprocessor:\n",
    "            image = self.preprocessor(image)\n",
    "            \n",
    "        return image, label\n",
    "    \n",
    "mean, std = mean_std(train_data)\n",
    "print(f\"Mean: {mean}\")\n",
    "print(f\"Std: {std}\")\n",
    "\n",
    "preprocessor = transforms.Compose([\n",
    "        transforms.Normalize(mean, std)\n",
    "])\n",
    "\n",
    "# preprocesses data\n",
    "train_data = LocalizationDataset(train_data, preprocessor = preprocessor)\n",
    "val_data = LocalizationDataset(val_data, preprocessor = preprocessor)\n",
    "test_data = LocalizationDataset(test_data, preprocessor = preprocessor)\n"
   ]
  },
  {
   "cell_type": "markdown",
   "metadata": {},
   "source": [
    "### Training"
   ]
  },
  {
   "cell_type": "code",
   "execution_count": 81,
   "metadata": {},
   "outputs": [],
   "source": [
    "def train(n_epochs, optimizer, model, loss_func, train_loader):\n",
    "\n",
    "    n_batch = len(train_loader)\n",
    "    losses_train = []\n",
    "    model.train()\n",
    "    optimizer.zero_grad(set_to_none=True)\n",
    "    \n",
    "    \n",
    "    for epoch in range(1, n_epochs + 1):\n",
    "        \n",
    "        loss_train = 0.0\n",
    "        for imgs, labels in tqdm(train_loader, desc=f\"Epoch {epoch}/{n_epochs}\", leave=False):\n",
    "\n",
    "            # We use torch.double to get the same results as Pytorch\n",
    "            imgs = imgs.to(device=device, dtype=torch.double) \n",
    "            labels = labels.to(device=device, dtype=torch.double)\n",
    "\n",
    "            outputs = model(imgs)\n",
    "            \n",
    "            loss = loss_func(outputs, labels)\n",
    "            loss.backward()\n",
    "            optimizer.step()\n",
    "            optimizer.zero_grad()\n",
    "\n",
    "            loss_train += loss.item()\n",
    "            \n",
    "        losses_train.append(loss_train / n_batch)\n",
    "        \n",
    "        print('{}  |  Epoch {}  |  Training loss {:.5f}'.format(\n",
    "            datetime.now().time(), epoch, loss_train / n_batch))\n",
    "        \n",
    "    return losses_train "
   ]
  },
  {
   "cell_type": "code",
   "execution_count": 51,
   "metadata": {},
   "outputs": [],
   "source": [
    "#model = CNN_1(in_channels=1).to(device=device, dtype=torch.double)\n",
    "#optimizer = optim.Adam(model.parameters(), lr=0.001)\n",
    "train_loader = DataLoader(train_data, batch_size=64, shuffle=True)\n",
    "loss_func = localization_loss\n",
    "\n",
    "#train(1, optimizer, model, loss_func, train_loader)"
   ]
  },
  {
   "cell_type": "markdown",
   "metadata": {},
   "source": [
    "### Visualizing Predictions"
   ]
  },
  {
   "cell_type": "code",
   "execution_count": 82,
   "metadata": {},
   "outputs": [],
   "source": [
    "# Lasse sin kode:\n",
    "\n",
    "def unnormalize(image, mean, std):\n",
    "    return image * std + mean\n",
    "\n",
    "def convert_box(box, H, W):\n",
    "    # Convert normalized [x, y, w, h] (center format) to [x_min, y_min, x_max, y_max] in pixel coordinates\n",
    "    x, y, w, h = box\n",
    "    x_min = (x - w / 2) * W\n",
    "    y_min = (y - h / 2) * H\n",
    "    x_max = (x + w / 2) * W\n",
    "    y_max = (y + h / 2) * H\n",
    "    return torch.tensor([x_min, y_min, x_max, y_max], device=box.device)\n",
    "\n",
    "\n",
    "def visualize_predictions(model, image, label, preprocessor=None, mean=[0.0], std=[1.0], detection_threshold=0.5):\n",
    "    model.eval()\n",
    "    device = next(model.parameters()).device\n",
    "\n",
    "    image_proc = preprocessor(image) if preprocessor else image.clone()\n",
    "    image_proc = image_proc.unsqueeze(0).to(device, dtype = torch.double)\n",
    "\n",
    "    with torch.no_grad():\n",
    "        outputs = model(image_proc)\n",
    "\n",
    "    pred = outputs[0]\n",
    "    pred_pc = torch.sigmoid(pred[0]).item()\n",
    "    pred_box = pred[1:5]\n",
    "    pred_class = torch.argmax(pred[5:]).item()\n",
    "\n",
    "    gt_pc = label[0].item()\n",
    "    gt_box = label[1:5]\n",
    "    gt_class = int(label[5].item())\n",
    "\n",
    "    image_disp = unnormalize(image, mean, std)\n",
    "    image_disp = (image_disp.clamp(0, 1) * 255).to(torch.uint8)\n",
    "    if image_disp.shape[0] == 1:\n",
    "        image_disp = image_disp.repeat(3, 1, 1)\n",
    "    _, H, W = image_disp.shape\n",
    "\n",
    "    pred_box_pixels = convert_box(pred_box, H, W)\n",
    "    gt_box_pixels = convert_box(gt_box, H, W)\n",
    "\n",
    "    # Prepare lists for boxes, colors, and labels for drawing both predicted and ground truth boxes\n",
    "    boxes = []\n",
    "    colors = []\n",
    "    \n",
    "    if pred_pc > detection_threshold:\n",
    "        boxes.append(pred_box_pixels)\n",
    "        colors.append(\"red\")\n",
    "    \n",
    "    if gt_pc > 0.5:\n",
    "        boxes.append(gt_box_pixels)\n",
    "        colors.append(\"green\")\n",
    "        \n",
    "    if boxes:\n",
    "        boxes = torch.stack(boxes)\n",
    "        image_with_boxes = draw_bounding_boxes(image_disp, boxes, colors=colors, width=1)\n",
    "    else:\n",
    "        image_with_boxes = image_disp\n",
    "\n",
    "    image_np = image_with_boxes.permute(1, 2, 0).cpu().numpy()\n",
    "\n",
    "    plt.figure(figsize=(6, 6))\n",
    "    plt.imshow(image_np)\n",
    "    plt.axis(\"off\")\n",
    "    plt.title(\"Prediction vs Ground Truth\")\n",
    "    # Create a caption with prediction details and ground truth info\n",
    "    caption = (f\"Prediction: Class {pred_class} (Prob: {pred_pc:.2f}) | \"\n",
    "               f\"Ground Truth: Class {gt_class}\")\n",
    "    # Place caption below the image\n",
    "    plt.figtext(0.5, 0.01, caption, wrap=True, horizontalalignment='center', fontsize=12)\n",
    "    plt.show()"
   ]
  },
  {
   "cell_type": "markdown",
   "metadata": {},
   "source": [
    "### Model selection and evaluation"
   ]
  },
  {
   "cell_type": "code",
   "execution_count": 83,
   "metadata": {},
   "outputs": [],
   "source": [
    "def _change_coordinates(bb):\n",
    "    \"\"\"\n",
    "    Change bb from [x, y, w, h] to [x1, y1, x2, y2] (topleft and downright corners)\n",
    "    \"\"\"\n",
    "    x1 = bb[0] - bb[2]/2 # midt - bredde\n",
    "    y1 = bb[1] - bb[3]/2 # midt - høyde\n",
    "\n",
    "    x2 = bb[0] + bb[2]/2 # midt + bredde\n",
    "    y2 = bb[1] + bb[3]/2 # midt + høyde\n",
    "\n",
    "    return [x1, y1, x2, y2]\n"
   ]
  },
  {
   "cell_type": "code",
   "execution_count": 84,
   "metadata": {},
   "outputs": [],
   "source": [
    "def intersection(bb1, bb2):\n",
    "    \"\"\"\n",
    "    Compute intersection between 2 bb, in global frame of ref\n",
    "    \"\"\"\n",
    " \n",
    "    # Change bb from [x, y, w, h] to [x1, y1, x2, y2] (topleft and downright corners)\n",
    "    b1 = _change_coordinates(bb1)\n",
    "    b2 = _change_coordinates(bb2)\n",
    "\n",
    "    # når man har formen [x1, y1, x2, y2]:\n",
    "    xA = max(b1[0], b2[0]) # finner største x verdi for topleft corner\n",
    "    yA = max(b1[1], b2[1]) # finner største y verdi for topleft corner\n",
    "    # (xA, yA) er topleft av intersection \n",
    "    \n",
    "    xB = min(b1[2], b2[2]) # finner minste x verdi for downright corner\n",
    "    yB = min(b1[3], b2[3]) # finner minste y verdi for downright corner\n",
    "    # (xB, yB) er downright av intersection \n",
    "\n",
    "    area = max(xB-xA, 0) * max(yB-yA, 0)\n",
    "    return area\n",
    "\n",
    "   \n",
    "def IoU(bb1, bb2):\n",
    "    \"\"\"\n",
    "    Compute IoU given 2 bb (local or global)\n",
    "    \"\"\"\n",
    "    intersect = intersection(bb1, bb2)\n",
    "    union = bb1[-1]*bb1[-2] + bb2[-1]*bb2[-2] - intersect\n",
    "    IoU = intersect / union\n",
    "    return IoU\n",
    "   \n",
    "\n",
    "# Lasse sin\n",
    "def compute_IoU_localization(model, loader, preprocessor):\n",
    "    \"\"\"\n",
    "    Compute IoU performance of the model on the given dataset\n",
    "    \"\"\"\n",
    "    model.eval()\n",
    "    total_iou = 0\n",
    "    num_samples = 0\n",
    "\n",
    "    with torch.no_grad():\n",
    "        for images, labels in loader:\n",
    "            if preprocessor:\n",
    "                images = preprocessor(images)\n",
    "            \n",
    "            images = images.to(device, dtype=torch.double)\n",
    "            labels = labels.to(device, dtype=torch.double)\n",
    "\n",
    "            outputs = model(images)\n",
    "\n",
    "            mask = (labels[:, 0] == 1)\n",
    "            if mask.sum() == 0:\n",
    "                continue\n",
    "\n",
    "            pred_boxes = outputs[mask, 1:5]\n",
    "            true_boxes = labels[mask, 1:5]\n",
    "\n",
    "            batch_iou = []\n",
    "            for i in range(len(true_boxes)):\n",
    "                iou_value = IoU(pred_boxes[i], true_boxes[i])\n",
    "                batch_iou.append(iou_value)\n",
    "            \n",
    "            total_iou += sum(batch_iou)\n",
    "            num_samples += len(images)\n",
    "            \n",
    "    return total_iou/num_samples\n",
    "    \n",
    "   #TODO\n",
    "\n",
    "\n",
    "# Lasse sin\n",
    "def compute_accuracy_localization(model, loader, preprocessor):\n",
    "    \"\"\"\n",
    "    Compute accuracy of the model on the given dataset\n",
    "    \"\"\"\n",
    "    model.eval()\n",
    "    num_correct = 0\n",
    "    num_samples = 0\n",
    "        \n",
    "    with torch.no_grad():\n",
    "        for images, labels in loader:\n",
    "            if preprocessor:\n",
    "                images = preprocessor(images)\n",
    "            \n",
    "            images = images.to(device,dtype=torch.double)\n",
    "            labels = labels.to(device, dtype=torch.double)\n",
    "\n",
    "            outputs = model(images)\n",
    "            mask = (labels[:, 0] == 1)\n",
    "            if mask.sum() == 0:\n",
    "                continue\n",
    "            class_probs = torch.softmax(outputs[mask, 5:], dim=1)\n",
    "            class_pred = torch.argmax(class_probs, dim=1)\n",
    "            class_true = labels[mask, 5].long()\n",
    "\n",
    "            num_correct += (class_pred == class_true).sum().item()\n",
    "            num_samples += mask.sum().item()\n",
    "    \n",
    "    return num_correct/num_samples\n",
    "    \n",
    "\n",
    "# from performance avsnitt:\n",
    "\"\"\" \n",
    "To evaluate how well the model can classify and draw bounding boxes, overall performance can be defined as the mean of the accuracy and the IoU.\n",
    "The total number of images to classify is the total number of images containing an object (i.e., when the first element pc of y true is 1).\n",
    "The number of correctly classified images is the number of predictions where both the predicted pc and the predicted label matches their counterparts in y true\n",
    "\"\"\"\n",
    "\n",
    "def overall_performance(model, loader, preprocessor):\n",
    "    \"\"\"\n",
    "    Compute the overall performance of the model on the given dataset\"\n",
    "    \"\"\"\n",
    "    accuracy = compute_accuracy_localization(model, loader, preprocessor)\n",
    "    IoU = compute_IoU_localization(model, loader, preprocessor)\n",
    "\n",
    "    print(f\"Val Accuracy: {accuracy:.4f}\")\n",
    "    print(f\"Val Mean IoU: {IoU:.4f}\")\n",
    "    \n",
    "    return (accuracy + IoU) / 2"
   ]
  },
  {
   "cell_type": "code",
   "execution_count": null,
   "metadata": {},
   "outputs": [
    {
     "name": "stdout",
     "output_type": "stream",
     "text": [
      "Val Accuracy: 0.1005\n",
      "Val Mean IoU: 0.0008\n",
      "Overall performance: 0.0507\n"
     ]
    },
    {
     "ename": "ValueError",
     "evalue": "Boxes need to be in (xmin, ymin, xmax, ymax) format. Use torchvision.ops.box_convert to convert them",
     "output_type": "error",
     "traceback": [
      "\u001b[0;31m---------------------------------------------------------------------------\u001b[0m",
      "\u001b[0;31mValueError\u001b[0m                                Traceback (most recent call last)",
      "Cell \u001b[0;32mIn[73], line 9\u001b[0m\n\u001b[1;32m      7\u001b[0m \u001b[38;5;66;03m# Sample usage:\u001b[39;00m\n\u001b[1;32m      8\u001b[0m sample_image, sample_label \u001b[38;5;241m=\u001b[39m val_data[\u001b[38;5;241m7\u001b[39m]\n\u001b[0;32m----> 9\u001b[0m visualize_predictions(model, sample_image, sample_label, preprocessor, mean, std)\n",
      "Cell \u001b[0;32mIn[64], line 58\u001b[0m, in \u001b[0;36mvisualize_predictions\u001b[0;34m(model, image, label, preprocessor, mean, std, detection_threshold)\u001b[0m\n\u001b[1;32m     56\u001b[0m \u001b[38;5;28;01mif\u001b[39;00m boxes:\n\u001b[1;32m     57\u001b[0m     boxes \u001b[38;5;241m=\u001b[39m torch\u001b[38;5;241m.\u001b[39mstack(boxes)\n\u001b[0;32m---> 58\u001b[0m     image_with_boxes \u001b[38;5;241m=\u001b[39m draw_bounding_boxes(image_disp, boxes, colors\u001b[38;5;241m=\u001b[39mcolors, width\u001b[38;5;241m=\u001b[39m\u001b[38;5;241m1\u001b[39m)\n\u001b[1;32m     59\u001b[0m \u001b[38;5;28;01melse\u001b[39;00m:\n\u001b[1;32m     60\u001b[0m     image_with_boxes \u001b[38;5;241m=\u001b[39m image_disp\n",
      "File \u001b[0;32m~/anaconda3/envs/inf265/lib/python3.12/site-packages/torch/utils/_contextlib.py:116\u001b[0m, in \u001b[0;36mcontext_decorator.<locals>.decorate_context\u001b[0;34m(*args, **kwargs)\u001b[0m\n\u001b[1;32m    113\u001b[0m \u001b[38;5;129m@functools\u001b[39m\u001b[38;5;241m.\u001b[39mwraps(func)\n\u001b[1;32m    114\u001b[0m \u001b[38;5;28;01mdef\u001b[39;00m \u001b[38;5;21mdecorate_context\u001b[39m(\u001b[38;5;241m*\u001b[39margs, \u001b[38;5;241m*\u001b[39m\u001b[38;5;241m*\u001b[39mkwargs):\n\u001b[1;32m    115\u001b[0m     \u001b[38;5;28;01mwith\u001b[39;00m ctx_factory():\n\u001b[0;32m--> 116\u001b[0m         \u001b[38;5;28;01mreturn\u001b[39;00m func(\u001b[38;5;241m*\u001b[39margs, \u001b[38;5;241m*\u001b[39m\u001b[38;5;241m*\u001b[39mkwargs)\n",
      "File \u001b[0;32m~/anaconda3/envs/inf265/lib/python3.12/site-packages/torchvision/utils.py:204\u001b[0m, in \u001b[0;36mdraw_bounding_boxes\u001b[0;34m(image, boxes, labels, colors, fill, width, font, font_size)\u001b[0m\n\u001b[1;32m    202\u001b[0m     \u001b[38;5;28;01mraise\u001b[39;00m \u001b[38;5;167;01mValueError\u001b[39;00m(\u001b[38;5;124m\"\u001b[39m\u001b[38;5;124mOnly grayscale and RGB images are supported\u001b[39m\u001b[38;5;124m\"\u001b[39m)\n\u001b[1;32m    203\u001b[0m \u001b[38;5;28;01melif\u001b[39;00m (boxes[:, \u001b[38;5;241m0\u001b[39m] \u001b[38;5;241m>\u001b[39m boxes[:, \u001b[38;5;241m2\u001b[39m])\u001b[38;5;241m.\u001b[39many() \u001b[38;5;129;01mor\u001b[39;00m (boxes[:, \u001b[38;5;241m1\u001b[39m] \u001b[38;5;241m>\u001b[39m boxes[:, \u001b[38;5;241m3\u001b[39m])\u001b[38;5;241m.\u001b[39many():\n\u001b[0;32m--> 204\u001b[0m     \u001b[38;5;28;01mraise\u001b[39;00m \u001b[38;5;167;01mValueError\u001b[39;00m(\n\u001b[1;32m    205\u001b[0m         \u001b[38;5;124m\"\u001b[39m\u001b[38;5;124mBoxes need to be in (xmin, ymin, xmax, ymax) format. Use torchvision.ops.box_convert to convert them\u001b[39m\u001b[38;5;124m\"\u001b[39m\n\u001b[1;32m    206\u001b[0m     )\n\u001b[1;32m    208\u001b[0m num_boxes \u001b[38;5;241m=\u001b[39m boxes\u001b[38;5;241m.\u001b[39mshape[\u001b[38;5;241m0\u001b[39m]\n\u001b[1;32m    210\u001b[0m \u001b[38;5;28;01mif\u001b[39;00m num_boxes \u001b[38;5;241m==\u001b[39m \u001b[38;5;241m0\u001b[39m:\n",
      "\u001b[0;31mValueError\u001b[0m: Boxes need to be in (xmin, ymin, xmax, ymax) format. Use torchvision.ops.box_convert to convert them"
     ]
    }
   ],
   "source": [
    "# testing stuff\n",
    "#val_loader = DataLoader(val_data, batch_size=64, shuffle=False)\n",
    "#model.eval()\n",
    "\n",
    "#performance = overall_performance(model, val_loader, preprocessor)\n",
    "#print(f\"Overall performance: {performance:.4f}\")\n",
    "\n",
    "# Sample usage:\n",
    "#sample_image, sample_label = val_data[7]\n",
    "#visualize_predictions(model, sample_image, sample_label, preprocessor, mean, std) #mean=[mean.item()], std=[std.item()])"
   ]
  },
  {
   "cell_type": "markdown",
   "metadata": {},
   "source": [
    "## Model selection and evaluation"
   ]
  },
  {
   "cell_type": "code",
   "execution_count": 85,
   "metadata": {},
   "outputs": [
    {
     "name": "stdout",
     "output_type": "stream",
     "text": [
      "Training SimpleResNet with default hyperparameters (lr=0.001, weight_decay=0.01)\n"
     ]
    },
    {
     "name": "stderr",
     "output_type": "stream",
     "text": [
      "                                                             \r"
     ]
    },
    {
     "name": "stdout",
     "output_type": "stream",
     "text": [
      "20:19:53.085690  |  Epoch 1  |  Training loss 1.54622\n"
     ]
    },
    {
     "name": "stderr",
     "output_type": "stream",
     "text": [
      "                                                             \r"
     ]
    },
    {
     "name": "stdout",
     "output_type": "stream",
     "text": [
      "20:21:32.833752  |  Epoch 2  |  Training loss 0.51111\n"
     ]
    },
    {
     "name": "stderr",
     "output_type": "stream",
     "text": [
      "                                                             \r"
     ]
    },
    {
     "name": "stdout",
     "output_type": "stream",
     "text": [
      "20:23:09.615768  |  Epoch 3  |  Training loss 0.31970\n"
     ]
    },
    {
     "name": "stderr",
     "output_type": "stream",
     "text": [
      "                                                             \r"
     ]
    },
    {
     "name": "stdout",
     "output_type": "stream",
     "text": [
      "20:24:47.482215  |  Epoch 4  |  Training loss 0.26776\n"
     ]
    },
    {
     "name": "stderr",
     "output_type": "stream",
     "text": [
      "                                                             \r"
     ]
    },
    {
     "name": "stdout",
     "output_type": "stream",
     "text": [
      "20:26:25.662107  |  Epoch 5  |  Training loss 0.24413\n"
     ]
    },
    {
     "name": "stderr",
     "output_type": "stream",
     "text": [
      "                                                             \r"
     ]
    },
    {
     "name": "stdout",
     "output_type": "stream",
     "text": [
      "20:28:06.780010  |  Epoch 6  |  Training loss 0.22772\n"
     ]
    },
    {
     "name": "stderr",
     "output_type": "stream",
     "text": [
      "                                                             \r"
     ]
    },
    {
     "name": "stdout",
     "output_type": "stream",
     "text": [
      "20:29:49.736510  |  Epoch 7  |  Training loss 0.21568\n"
     ]
    },
    {
     "name": "stderr",
     "output_type": "stream",
     "text": [
      "                                                             \r"
     ]
    },
    {
     "name": "stdout",
     "output_type": "stream",
     "text": [
      "20:31:28.908383  |  Epoch 8  |  Training loss 0.21078\n"
     ]
    },
    {
     "name": "stderr",
     "output_type": "stream",
     "text": [
      "                                                             \r"
     ]
    },
    {
     "name": "stdout",
     "output_type": "stream",
     "text": [
      "20:33:08.021788  |  Epoch 9  |  Training loss 0.20323\n"
     ]
    },
    {
     "name": "stderr",
     "output_type": "stream",
     "text": [
      "                                                              \r"
     ]
    },
    {
     "name": "stdout",
     "output_type": "stream",
     "text": [
      "20:34:46.674669  |  Epoch 10  |  Training loss 0.19926\n"
     ]
    },
    {
     "name": "stderr",
     "output_type": "stream",
     "text": [
      "                                                              \r"
     ]
    },
    {
     "name": "stdout",
     "output_type": "stream",
     "text": [
      "20:36:25.878994  |  Epoch 11  |  Training loss 0.19692\n"
     ]
    },
    {
     "name": "stderr",
     "output_type": "stream",
     "text": [
      "                                                              \r"
     ]
    },
    {
     "name": "stdout",
     "output_type": "stream",
     "text": [
      "20:38:03.712035  |  Epoch 12  |  Training loss 0.19039\n"
     ]
    },
    {
     "name": "stderr",
     "output_type": "stream",
     "text": [
      "                                                              \r"
     ]
    },
    {
     "name": "stdout",
     "output_type": "stream",
     "text": [
      "20:39:42.085351  |  Epoch 13  |  Training loss 0.18674\n"
     ]
    },
    {
     "name": "stderr",
     "output_type": "stream",
     "text": [
      "                                                              \r"
     ]
    },
    {
     "name": "stdout",
     "output_type": "stream",
     "text": [
      "20:41:21.652980  |  Epoch 14  |  Training loss 0.18689\n"
     ]
    },
    {
     "name": "stderr",
     "output_type": "stream",
     "text": [
      "                                                              \r"
     ]
    },
    {
     "name": "stdout",
     "output_type": "stream",
     "text": [
      "20:43:01.548601  |  Epoch 15  |  Training loss 0.18177\n"
     ]
    },
    {
     "name": "stderr",
     "output_type": "stream",
     "text": [
      "                                                              \r"
     ]
    },
    {
     "name": "stdout",
     "output_type": "stream",
     "text": [
      "20:44:40.194100  |  Epoch 16  |  Training loss 0.18405\n"
     ]
    },
    {
     "name": "stderr",
     "output_type": "stream",
     "text": [
      "                                                              \r"
     ]
    },
    {
     "name": "stdout",
     "output_type": "stream",
     "text": [
      "20:46:19.158519  |  Epoch 17  |  Training loss 0.17887\n"
     ]
    },
    {
     "name": "stderr",
     "output_type": "stream",
     "text": [
      "                                                              \r"
     ]
    },
    {
     "name": "stdout",
     "output_type": "stream",
     "text": [
      "20:47:58.329659  |  Epoch 18  |  Training loss 0.18100\n"
     ]
    },
    {
     "name": "stderr",
     "output_type": "stream",
     "text": [
      "                                                              \r"
     ]
    },
    {
     "name": "stdout",
     "output_type": "stream",
     "text": [
      "20:49:39.631242  |  Epoch 19  |  Training loss 0.17461\n"
     ]
    },
    {
     "name": "stderr",
     "output_type": "stream",
     "text": [
      "                                                              \r"
     ]
    },
    {
     "name": "stdout",
     "output_type": "stream",
     "text": [
      "20:51:19.396051  |  Epoch 20  |  Training loss 0.17953\n"
     ]
    },
    {
     "name": "stderr",
     "output_type": "stream",
     "text": [
      "                                                              \r"
     ]
    },
    {
     "name": "stdout",
     "output_type": "stream",
     "text": [
      "20:52:57.978743  |  Epoch 21  |  Training loss 0.17394\n"
     ]
    },
    {
     "name": "stderr",
     "output_type": "stream",
     "text": [
      "                                                              \r"
     ]
    },
    {
     "name": "stdout",
     "output_type": "stream",
     "text": [
      "20:54:37.537674  |  Epoch 22  |  Training loss 0.17251\n"
     ]
    },
    {
     "name": "stderr",
     "output_type": "stream",
     "text": [
      "                                                              \r"
     ]
    },
    {
     "name": "stdout",
     "output_type": "stream",
     "text": [
      "20:56:16.167304  |  Epoch 23  |  Training loss 0.17589\n"
     ]
    },
    {
     "name": "stderr",
     "output_type": "stream",
     "text": [
      "                                                              \r"
     ]
    },
    {
     "name": "stdout",
     "output_type": "stream",
     "text": [
      "20:57:55.296254  |  Epoch 24  |  Training loss 0.17448\n"
     ]
    },
    {
     "name": "stderr",
     "output_type": "stream",
     "text": [
      "                                                              \r"
     ]
    },
    {
     "name": "stdout",
     "output_type": "stream",
     "text": [
      "20:59:34.281831  |  Epoch 25  |  Training loss 0.17475\n"
     ]
    },
    {
     "name": "stderr",
     "output_type": "stream",
     "text": [
      "                                                              \r"
     ]
    },
    {
     "name": "stdout",
     "output_type": "stream",
     "text": [
      "21:01:13.577048  |  Epoch 26  |  Training loss 0.17324\n"
     ]
    },
    {
     "name": "stderr",
     "output_type": "stream",
     "text": [
      "                                                              \r"
     ]
    },
    {
     "name": "stdout",
     "output_type": "stream",
     "text": [
      "21:02:52.149568  |  Epoch 27  |  Training loss 0.17275\n"
     ]
    },
    {
     "name": "stderr",
     "output_type": "stream",
     "text": [
      "                                                              \r"
     ]
    },
    {
     "name": "stdout",
     "output_type": "stream",
     "text": [
      "21:04:31.685540  |  Epoch 28  |  Training loss 0.17063\n"
     ]
    },
    {
     "name": "stderr",
     "output_type": "stream",
     "text": [
      "                                                              \r"
     ]
    },
    {
     "name": "stdout",
     "output_type": "stream",
     "text": [
      "21:06:10.648375  |  Epoch 29  |  Training loss 0.17326\n"
     ]
    },
    {
     "name": "stderr",
     "output_type": "stream",
     "text": [
      "                                                              \r"
     ]
    },
    {
     "name": "stdout",
     "output_type": "stream",
     "text": [
      "21:07:55.772210  |  Epoch 30  |  Training loss 0.17374\n",
      "Val Accuracy: 0.1003\n",
      "Val Mean IoU: 0.0501\n",
      "Performance for SimpleResNet: 0.0752\n",
      "Training CNN_1 with default hyperparameters (lr=0.001, weight_decay=0.01)\n"
     ]
    },
    {
     "name": "stderr",
     "output_type": "stream",
     "text": [
      "                                                             \r"
     ]
    },
    {
     "name": "stdout",
     "output_type": "stream",
     "text": [
      "21:08:38.412284  |  Epoch 1  |  Training loss 2.31344\n"
     ]
    },
    {
     "name": "stderr",
     "output_type": "stream",
     "text": [
      "                                                             \r"
     ]
    },
    {
     "name": "stdout",
     "output_type": "stream",
     "text": [
      "21:09:12.581119  |  Epoch 2  |  Training loss 1.96074\n"
     ]
    },
    {
     "name": "stderr",
     "output_type": "stream",
     "text": [
      "                                                             \r"
     ]
    },
    {
     "name": "stdout",
     "output_type": "stream",
     "text": [
      "21:09:47.133479  |  Epoch 3  |  Training loss 1.77644\n"
     ]
    },
    {
     "name": "stderr",
     "output_type": "stream",
     "text": [
      "                                                             \r"
     ]
    },
    {
     "name": "stdout",
     "output_type": "stream",
     "text": [
      "21:10:21.357906  |  Epoch 4  |  Training loss 1.64887\n"
     ]
    },
    {
     "name": "stderr",
     "output_type": "stream",
     "text": [
      "                                                             \r"
     ]
    },
    {
     "name": "stdout",
     "output_type": "stream",
     "text": [
      "21:10:55.658437  |  Epoch 5  |  Training loss 1.61685\n"
     ]
    },
    {
     "name": "stderr",
     "output_type": "stream",
     "text": [
      "                                                             \r"
     ]
    },
    {
     "name": "stdout",
     "output_type": "stream",
     "text": [
      "21:11:29.689819  |  Epoch 6  |  Training loss 1.58333\n"
     ]
    },
    {
     "name": "stderr",
     "output_type": "stream",
     "text": [
      "                                                             \r"
     ]
    },
    {
     "name": "stdout",
     "output_type": "stream",
     "text": [
      "21:12:03.224112  |  Epoch 7  |  Training loss 1.53882\n"
     ]
    },
    {
     "name": "stderr",
     "output_type": "stream",
     "text": [
      "                                                             \r"
     ]
    },
    {
     "name": "stdout",
     "output_type": "stream",
     "text": [
      "21:12:37.097184  |  Epoch 8  |  Training loss 1.49831\n"
     ]
    },
    {
     "name": "stderr",
     "output_type": "stream",
     "text": [
      "                                                             \r"
     ]
    },
    {
     "name": "stdout",
     "output_type": "stream",
     "text": [
      "21:13:10.912798  |  Epoch 9  |  Training loss 1.45714\n"
     ]
    },
    {
     "name": "stderr",
     "output_type": "stream",
     "text": [
      "                                                              \r"
     ]
    },
    {
     "name": "stdout",
     "output_type": "stream",
     "text": [
      "21:13:44.267443  |  Epoch 10  |  Training loss 1.41251\n"
     ]
    },
    {
     "name": "stderr",
     "output_type": "stream",
     "text": [
      "                                                              \r"
     ]
    },
    {
     "name": "stdout",
     "output_type": "stream",
     "text": [
      "21:14:17.991580  |  Epoch 11  |  Training loss 1.37334\n"
     ]
    },
    {
     "name": "stderr",
     "output_type": "stream",
     "text": [
      "                                                              \r"
     ]
    },
    {
     "name": "stdout",
     "output_type": "stream",
     "text": [
      "21:14:51.678987  |  Epoch 12  |  Training loss 1.32223\n"
     ]
    },
    {
     "name": "stderr",
     "output_type": "stream",
     "text": [
      "                                                              \r"
     ]
    },
    {
     "name": "stdout",
     "output_type": "stream",
     "text": [
      "21:15:25.032003  |  Epoch 13  |  Training loss 1.26331\n"
     ]
    },
    {
     "name": "stderr",
     "output_type": "stream",
     "text": [
      "                                                              \r"
     ]
    },
    {
     "name": "stdout",
     "output_type": "stream",
     "text": [
      "21:15:58.398916  |  Epoch 14  |  Training loss 1.19390\n"
     ]
    },
    {
     "name": "stderr",
     "output_type": "stream",
     "text": [
      "                                                              \r"
     ]
    },
    {
     "name": "stdout",
     "output_type": "stream",
     "text": [
      "21:16:32.363125  |  Epoch 15  |  Training loss 1.12991\n"
     ]
    },
    {
     "name": "stderr",
     "output_type": "stream",
     "text": [
      "                                                              \r"
     ]
    },
    {
     "name": "stdout",
     "output_type": "stream",
     "text": [
      "21:17:06.178805  |  Epoch 16  |  Training loss 1.07678\n"
     ]
    },
    {
     "name": "stderr",
     "output_type": "stream",
     "text": [
      "                                                              \r"
     ]
    },
    {
     "name": "stdout",
     "output_type": "stream",
     "text": [
      "21:17:39.664839  |  Epoch 17  |  Training loss 1.02361\n"
     ]
    },
    {
     "name": "stderr",
     "output_type": "stream",
     "text": [
      "                                                              \r"
     ]
    },
    {
     "name": "stdout",
     "output_type": "stream",
     "text": [
      "21:18:13.120986  |  Epoch 18  |  Training loss 0.97950\n"
     ]
    },
    {
     "name": "stderr",
     "output_type": "stream",
     "text": [
      "                                                              \r"
     ]
    },
    {
     "name": "stdout",
     "output_type": "stream",
     "text": [
      "21:18:46.758111  |  Epoch 19  |  Training loss 0.93081\n"
     ]
    },
    {
     "name": "stderr",
     "output_type": "stream",
     "text": [
      "                                                              \r"
     ]
    },
    {
     "name": "stdout",
     "output_type": "stream",
     "text": [
      "21:19:20.512869  |  Epoch 20  |  Training loss 0.89098\n"
     ]
    },
    {
     "name": "stderr",
     "output_type": "stream",
     "text": [
      "                                                              \r"
     ]
    },
    {
     "name": "stdout",
     "output_type": "stream",
     "text": [
      "21:19:54.425819  |  Epoch 21  |  Training loss 0.85361\n"
     ]
    },
    {
     "name": "stderr",
     "output_type": "stream",
     "text": [
      "                                                              \r"
     ]
    },
    {
     "name": "stdout",
     "output_type": "stream",
     "text": [
      "21:20:28.130995  |  Epoch 22  |  Training loss 0.82609\n"
     ]
    },
    {
     "name": "stderr",
     "output_type": "stream",
     "text": [
      "                                                              \r"
     ]
    },
    {
     "name": "stdout",
     "output_type": "stream",
     "text": [
      "21:21:01.871173  |  Epoch 23  |  Training loss 0.80058\n"
     ]
    },
    {
     "name": "stderr",
     "output_type": "stream",
     "text": [
      "                                                              \r"
     ]
    },
    {
     "name": "stdout",
     "output_type": "stream",
     "text": [
      "21:21:35.468199  |  Epoch 24  |  Training loss 0.77322\n"
     ]
    },
    {
     "name": "stderr",
     "output_type": "stream",
     "text": [
      "                                                              \r"
     ]
    },
    {
     "name": "stdout",
     "output_type": "stream",
     "text": [
      "21:22:09.064335  |  Epoch 25  |  Training loss 0.75025\n"
     ]
    },
    {
     "name": "stderr",
     "output_type": "stream",
     "text": [
      "                                                              \r"
     ]
    },
    {
     "name": "stdout",
     "output_type": "stream",
     "text": [
      "21:22:42.785547  |  Epoch 26  |  Training loss 0.72640\n"
     ]
    },
    {
     "name": "stderr",
     "output_type": "stream",
     "text": [
      "                                                              \r"
     ]
    },
    {
     "name": "stdout",
     "output_type": "stream",
     "text": [
      "21:23:16.397605  |  Epoch 27  |  Training loss 0.70273\n"
     ]
    },
    {
     "name": "stderr",
     "output_type": "stream",
     "text": [
      "                                                              \r"
     ]
    },
    {
     "name": "stdout",
     "output_type": "stream",
     "text": [
      "21:23:50.109271  |  Epoch 28  |  Training loss 0.68174\n"
     ]
    },
    {
     "name": "stderr",
     "output_type": "stream",
     "text": [
      "                                                              \r"
     ]
    },
    {
     "name": "stdout",
     "output_type": "stream",
     "text": [
      "21:24:23.878362  |  Epoch 29  |  Training loss 0.66365\n"
     ]
    },
    {
     "name": "stderr",
     "output_type": "stream",
     "text": [
      "                                                              \r"
     ]
    },
    {
     "name": "stdout",
     "output_type": "stream",
     "text": [
      "21:24:57.026229  |  Epoch 30  |  Training loss 0.64283\n",
      "Val Accuracy: 0.1207\n",
      "Val Mean IoU: 0.0006\n",
      "Performance for CNN_1: 0.0606\n",
      "Training MyConvOnlyCNN with default hyperparameters (lr=0.001, weight_decay=0.01)\n"
     ]
    },
    {
     "name": "stderr",
     "output_type": "stream",
     "text": [
      "                                                             \r"
     ]
    },
    {
     "name": "stdout",
     "output_type": "stream",
     "text": [
      "21:26:28.139935  |  Epoch 1  |  Training loss 1.60992\n"
     ]
    },
    {
     "name": "stderr",
     "output_type": "stream",
     "text": [
      "                                                             \r"
     ]
    },
    {
     "name": "stdout",
     "output_type": "stream",
     "text": [
      "21:27:55.466183  |  Epoch 2  |  Training loss 0.87930\n"
     ]
    },
    {
     "name": "stderr",
     "output_type": "stream",
     "text": [
      "                                                             \r"
     ]
    },
    {
     "name": "stdout",
     "output_type": "stream",
     "text": [
      "21:29:20.797575  |  Epoch 3  |  Training loss 0.68156\n"
     ]
    },
    {
     "name": "stderr",
     "output_type": "stream",
     "text": [
      "                                                             \r"
     ]
    },
    {
     "name": "stdout",
     "output_type": "stream",
     "text": [
      "21:30:48.513494  |  Epoch 4  |  Training loss 0.58646\n"
     ]
    },
    {
     "name": "stderr",
     "output_type": "stream",
     "text": [
      "                                                             \r"
     ]
    },
    {
     "name": "stdout",
     "output_type": "stream",
     "text": [
      "21:32:15.932177  |  Epoch 5  |  Training loss 0.53643\n"
     ]
    },
    {
     "name": "stderr",
     "output_type": "stream",
     "text": [
      "                                                             \r"
     ]
    },
    {
     "name": "stdout",
     "output_type": "stream",
     "text": [
      "21:33:41.614595  |  Epoch 6  |  Training loss 0.50626\n"
     ]
    },
    {
     "name": "stderr",
     "output_type": "stream",
     "text": [
      "                                                             \r"
     ]
    },
    {
     "name": "stdout",
     "output_type": "stream",
     "text": [
      "21:35:07.829639  |  Epoch 7  |  Training loss 0.49192\n"
     ]
    },
    {
     "name": "stderr",
     "output_type": "stream",
     "text": [
      "                                                             \r"
     ]
    },
    {
     "name": "stdout",
     "output_type": "stream",
     "text": [
      "21:36:34.663951  |  Epoch 8  |  Training loss 0.47850\n"
     ]
    },
    {
     "name": "stderr",
     "output_type": "stream",
     "text": [
      "                                                             \r"
     ]
    },
    {
     "name": "stdout",
     "output_type": "stream",
     "text": [
      "21:38:03.399978  |  Epoch 9  |  Training loss 0.46883\n"
     ]
    },
    {
     "name": "stderr",
     "output_type": "stream",
     "text": [
      "                                                              \r"
     ]
    },
    {
     "name": "stdout",
     "output_type": "stream",
     "text": [
      "21:39:31.629904  |  Epoch 10  |  Training loss 0.46072\n"
     ]
    },
    {
     "name": "stderr",
     "output_type": "stream",
     "text": [
      "                                                              \r"
     ]
    },
    {
     "name": "stdout",
     "output_type": "stream",
     "text": [
      "21:40:58.077410  |  Epoch 11  |  Training loss 0.45634\n"
     ]
    },
    {
     "name": "stderr",
     "output_type": "stream",
     "text": [
      "                                                              \r"
     ]
    },
    {
     "name": "stdout",
     "output_type": "stream",
     "text": [
      "21:42:25.376457  |  Epoch 12  |  Training loss 0.45151\n"
     ]
    },
    {
     "name": "stderr",
     "output_type": "stream",
     "text": [
      "                                                              \r"
     ]
    },
    {
     "name": "stdout",
     "output_type": "stream",
     "text": [
      "21:43:51.500527  |  Epoch 13  |  Training loss 0.45066\n"
     ]
    },
    {
     "name": "stderr",
     "output_type": "stream",
     "text": [
      "                                                              \r"
     ]
    },
    {
     "name": "stdout",
     "output_type": "stream",
     "text": [
      "21:45:17.992634  |  Epoch 14  |  Training loss 0.44744\n"
     ]
    },
    {
     "name": "stderr",
     "output_type": "stream",
     "text": [
      "                                                              \r"
     ]
    },
    {
     "name": "stdout",
     "output_type": "stream",
     "text": [
      "21:46:44.104917  |  Epoch 15  |  Training loss 0.44385\n"
     ]
    },
    {
     "name": "stderr",
     "output_type": "stream",
     "text": [
      "                                                              \r"
     ]
    },
    {
     "name": "stdout",
     "output_type": "stream",
     "text": [
      "21:48:11.267668  |  Epoch 16  |  Training loss 0.43840\n"
     ]
    },
    {
     "name": "stderr",
     "output_type": "stream",
     "text": [
      "                                                              \r"
     ]
    },
    {
     "name": "stdout",
     "output_type": "stream",
     "text": [
      "21:49:38.035348  |  Epoch 17  |  Training loss 0.43937\n"
     ]
    },
    {
     "name": "stderr",
     "output_type": "stream",
     "text": [
      "                                                              \r"
     ]
    },
    {
     "name": "stdout",
     "output_type": "stream",
     "text": [
      "21:51:04.976325  |  Epoch 18  |  Training loss 0.43427\n"
     ]
    },
    {
     "name": "stderr",
     "output_type": "stream",
     "text": [
      "                                                              \r"
     ]
    },
    {
     "name": "stdout",
     "output_type": "stream",
     "text": [
      "21:52:31.449079  |  Epoch 19  |  Training loss 0.43627\n"
     ]
    },
    {
     "name": "stderr",
     "output_type": "stream",
     "text": [
      "                                                              \r"
     ]
    },
    {
     "name": "stdout",
     "output_type": "stream",
     "text": [
      "21:53:57.783596  |  Epoch 20  |  Training loss 0.43802\n"
     ]
    },
    {
     "name": "stderr",
     "output_type": "stream",
     "text": [
      "                                                              \r"
     ]
    },
    {
     "name": "stdout",
     "output_type": "stream",
     "text": [
      "21:55:24.084927  |  Epoch 21  |  Training loss 0.43283\n"
     ]
    },
    {
     "name": "stderr",
     "output_type": "stream",
     "text": [
      "                                                              \r"
     ]
    },
    {
     "name": "stdout",
     "output_type": "stream",
     "text": [
      "21:56:50.811452  |  Epoch 22  |  Training loss 0.43294\n"
     ]
    },
    {
     "name": "stderr",
     "output_type": "stream",
     "text": [
      "                                                              \r"
     ]
    },
    {
     "name": "stdout",
     "output_type": "stream",
     "text": [
      "21:58:16.949806  |  Epoch 23  |  Training loss 0.43221\n"
     ]
    },
    {
     "name": "stderr",
     "output_type": "stream",
     "text": [
      "                                                              \r"
     ]
    },
    {
     "name": "stdout",
     "output_type": "stream",
     "text": [
      "21:59:43.752762  |  Epoch 24  |  Training loss 0.43216\n"
     ]
    },
    {
     "name": "stderr",
     "output_type": "stream",
     "text": [
      "                                                              \r"
     ]
    },
    {
     "name": "stdout",
     "output_type": "stream",
     "text": [
      "22:01:10.766466  |  Epoch 25  |  Training loss 0.43128\n"
     ]
    },
    {
     "name": "stderr",
     "output_type": "stream",
     "text": [
      "                                                              \r"
     ]
    },
    {
     "name": "stdout",
     "output_type": "stream",
     "text": [
      "22:02:36.480760  |  Epoch 26  |  Training loss 0.43225\n"
     ]
    },
    {
     "name": "stderr",
     "output_type": "stream",
     "text": [
      "                                                              \r"
     ]
    },
    {
     "name": "stdout",
     "output_type": "stream",
     "text": [
      "22:04:02.509763  |  Epoch 27  |  Training loss 0.43111\n"
     ]
    },
    {
     "name": "stderr",
     "output_type": "stream",
     "text": [
      "                                                              \r"
     ]
    },
    {
     "name": "stdout",
     "output_type": "stream",
     "text": [
      "22:05:28.833990  |  Epoch 28  |  Training loss 0.42622\n"
     ]
    },
    {
     "name": "stderr",
     "output_type": "stream",
     "text": [
      "                                                              \r"
     ]
    },
    {
     "name": "stdout",
     "output_type": "stream",
     "text": [
      "22:06:55.782395  |  Epoch 29  |  Training loss 0.43077\n"
     ]
    },
    {
     "name": "stderr",
     "output_type": "stream",
     "text": [
      "                                                              \r"
     ]
    },
    {
     "name": "stdout",
     "output_type": "stream",
     "text": [
      "22:08:22.823424  |  Epoch 30  |  Training loss 0.42855\n",
      "Val Accuracy: 0.1008\n",
      "Val Mean IoU: 0.0014\n",
      "Performance for MyConvOnlyCNN: 0.0511\n",
      "Best model architecture: SimpleResNet\n"
     ]
    }
   ],
   "source": [
    "\n",
    "\n",
    "# Standard hyperparameters for architecture selection\n",
    "default_lr = 0.001\n",
    "default_weight_decay = 0.01\n",
    "batch_size = 64\n",
    "\n",
    "train_loader = DataLoader(train_data, batch_size=batch_size, shuffle=True)\n",
    "val_loader = DataLoader(val_data, batch_size=batch_size, shuffle=False)\n",
    "\n",
    "# List of model classes to test\n",
    "models = [SimpleResNet, CNN_1, MyConvOnlyCNN]  # You can add more models here, e.g., [MyCNN, MyConvOnlyCNN]\n",
    "\n",
    "# Phase 1: Architecture Selection with default hyperparameters\n",
    "best_model_arch = None\n",
    "best_arch_score = -float('inf')\n",
    "all_losses = {}\n",
    "\n",
    "for model_class in models:\n",
    "    print(f\"Training {model_class.__name__} with default hyperparameters (lr={default_lr}, weight_decay={default_weight_decay})\")\n",
    "    # Instantiate the model\n",
    "    model = model_class()\n",
    "    model = model_class().to(device=device, dtype=torch.double)\n",
    "\n",
    "    \n",
    "    # Create an optimizer using default hyperparameters\n",
    "    optimizer = optim.Adam(model.parameters(), lr=default_lr, weight_decay=default_weight_decay)\n",
    "    \n",
    "    # Train the model (for a fixed number of epochs, e.g., 1 for quick comparison)\n",
    "    losses = train(\n",
    "        n_epochs=30,\n",
    "        optimizer=optimizer,\n",
    "        model=model,\n",
    "        loss_func=loss_func,\n",
    "        train_loader=train_loader\n",
    "    )\n",
    "    \n",
    "    # Stores the losses \n",
    "    all_losses[model_class.__name__] = losses\n",
    "    \n",
    "    # Evaluate the model on the validation set\n",
    "    performance = overall_performance(model, val_loader, preprocessor)\n",
    "    print(f\"Performance for {model_class.__name__}: {performance:.4f}\")\n",
    "    \n",
    "    # Keep track of the best performing architecture\n",
    "    if performance > best_arch_score:\n",
    "        best_arch_score = performance\n",
    "        best_model_arch = model_class\n",
    "\n",
    "print(\"Best model architecture:\", best_model_arch.__name__)\n"
   ]
  },
  {
   "cell_type": "markdown",
   "metadata": {},
   "source": [
    "# Tuning the best performing model"
   ]
  },
  {
   "cell_type": "code",
   "execution_count": 43,
   "metadata": {},
   "outputs": [
    {
     "name": "stdout",
     "output_type": "stream",
     "text": [
      "Tuning CNN_1 with lr=0.001, weight_decay=0\n"
     ]
    },
    {
     "name": "stderr",
     "output_type": "stream",
     "text": [
      "                                                            \r"
     ]
    },
    {
     "name": "stdout",
     "output_type": "stream",
     "text": [
      "14:26:52.129260  |  Epoch 1  |  Training loss 2.80421\n",
      "Val Accuracy: 0.1112\n",
      "Val Mean IoU: 0.0553\n",
      "Overall performance: 0.0832\n",
      "\n",
      "Tuning CNN_1 with lr=0.001, weight_decay=0.01\n"
     ]
    },
    {
     "name": "stderr",
     "output_type": "stream",
     "text": [
      "                                                            \r"
     ]
    },
    {
     "name": "stdout",
     "output_type": "stream",
     "text": [
      "14:27:22.475294  |  Epoch 1  |  Training loss 2.18559\n",
      "Val Accuracy: 0.0963\n",
      "Val Mean IoU: 0.0027\n",
      "Overall performance: 0.0495\n",
      "\n",
      "Tuning CNN_1 with lr=0.001, weight_decay=0.001\n"
     ]
    },
    {
     "name": "stderr",
     "output_type": "stream",
     "text": [
      "                                                            \r"
     ]
    },
    {
     "name": "stdout",
     "output_type": "stream",
     "text": [
      "14:27:54.454268  |  Epoch 1  |  Training loss 2.05090\n",
      "Val Accuracy: 0.0963\n",
      "Val Mean IoU: 0.0024\n",
      "Overall performance: 0.0494\n",
      "\n",
      "Tuning CNN_1 with lr=0.0005, weight_decay=0\n"
     ]
    },
    {
     "name": "stderr",
     "output_type": "stream",
     "text": [
      "                                                            \r"
     ]
    },
    {
     "ename": "KeyboardInterrupt",
     "evalue": "",
     "output_type": "error",
     "traceback": [
      "\u001b[0;31m---------------------------------------------------------------------------\u001b[0m",
      "\u001b[0;31mKeyboardInterrupt\u001b[0m                         Traceback (most recent call last)",
      "Cell \u001b[0;32mIn[43], line 21\u001b[0m\n\u001b[1;32m     18\u001b[0m optimizer \u001b[38;5;241m=\u001b[39m optim\u001b[38;5;241m.\u001b[39mAdam(model\u001b[38;5;241m.\u001b[39mparameters(), lr\u001b[38;5;241m=\u001b[39mlr, weight_decay\u001b[38;5;241m=\u001b[39mwd)\n\u001b[1;32m     20\u001b[0m \u001b[38;5;66;03m# Train the model on the training data\u001b[39;00m\n\u001b[0;32m---> 21\u001b[0m losses \u001b[38;5;241m=\u001b[39m train(\n\u001b[1;32m     22\u001b[0m     n_epochs\u001b[38;5;241m=\u001b[39m\u001b[38;5;241m1\u001b[39m,\n\u001b[1;32m     23\u001b[0m     optimizer\u001b[38;5;241m=\u001b[39moptimizer,\n\u001b[1;32m     24\u001b[0m     model\u001b[38;5;241m=\u001b[39mmodel,\n\u001b[1;32m     25\u001b[0m     loss_func\u001b[38;5;241m=\u001b[39mloss_func,\n\u001b[1;32m     26\u001b[0m     train_loader\u001b[38;5;241m=\u001b[39mtrain_loader\n\u001b[1;32m     27\u001b[0m )\n\u001b[1;32m     29\u001b[0m \u001b[38;5;66;03m# Evaluate the model on the validation data\u001b[39;00m\n\u001b[1;32m     30\u001b[0m performance \u001b[38;5;241m=\u001b[39m overall_performance(model, val_loader, preprocessor)\n",
      "Cell \u001b[0;32mIn[36], line 23\u001b[0m, in \u001b[0;36mtrain\u001b[0;34m(n_epochs, optimizer, model, loss_func, train_loader)\u001b[0m\n\u001b[1;32m     21\u001b[0m     loss\u001b[38;5;241m.\u001b[39mbackward()\n\u001b[1;32m     22\u001b[0m     optimizer\u001b[38;5;241m.\u001b[39mstep()\n\u001b[0;32m---> 23\u001b[0m     optimizer\u001b[38;5;241m.\u001b[39mzero_grad()\n\u001b[1;32m     25\u001b[0m     loss_train \u001b[38;5;241m+\u001b[39m\u001b[38;5;241m=\u001b[39m loss\u001b[38;5;241m.\u001b[39mitem()\n\u001b[1;32m     27\u001b[0m losses_train\u001b[38;5;241m.\u001b[39mappend(loss_train \u001b[38;5;241m/\u001b[39m n_batch)\n",
      "File \u001b[0;32m~/anaconda3/envs/inf265/lib/python3.12/site-packages/torch/_compile.py:32\u001b[0m, in \u001b[0;36m_disable_dynamo.<locals>.inner\u001b[0;34m(*args, **kwargs)\u001b[0m\n\u001b[1;32m     29\u001b[0m     disable_fn \u001b[38;5;241m=\u001b[39m torch\u001b[38;5;241m.\u001b[39m_dynamo\u001b[38;5;241m.\u001b[39mdisable(fn, recursive)\n\u001b[1;32m     30\u001b[0m     fn\u001b[38;5;241m.\u001b[39m__dynamo_disable \u001b[38;5;241m=\u001b[39m disable_fn\n\u001b[0;32m---> 32\u001b[0m \u001b[38;5;28;01mreturn\u001b[39;00m disable_fn(\u001b[38;5;241m*\u001b[39margs, \u001b[38;5;241m*\u001b[39m\u001b[38;5;241m*\u001b[39mkwargs)\n",
      "File \u001b[0;32m~/anaconda3/envs/inf265/lib/python3.12/site-packages/torch/_dynamo/eval_frame.py:632\u001b[0m, in \u001b[0;36mDisableContext.__call__.<locals>._fn\u001b[0;34m(*args, **kwargs)\u001b[0m\n\u001b[1;32m    630\u001b[0m prior \u001b[38;5;241m=\u001b[39m _maybe_set_eval_frame(callback)\n\u001b[1;32m    631\u001b[0m \u001b[38;5;28;01mtry\u001b[39;00m:\n\u001b[0;32m--> 632\u001b[0m     \u001b[38;5;28;01mreturn\u001b[39;00m fn(\u001b[38;5;241m*\u001b[39margs, \u001b[38;5;241m*\u001b[39m\u001b[38;5;241m*\u001b[39mkwargs)\n\u001b[1;32m    633\u001b[0m \u001b[38;5;28;01mfinally\u001b[39;00m:\n\u001b[1;32m    634\u001b[0m     _maybe_set_eval_frame(prior)\n",
      "File \u001b[0;32m~/anaconda3/envs/inf265/lib/python3.12/site-packages/torch/optim/optimizer.py:952\u001b[0m, in \u001b[0;36mOptimizer.zero_grad\u001b[0;34m(self, set_to_none)\u001b[0m\n\u001b[1;32m    950\u001b[0m \u001b[38;5;28;01mif\u001b[39;00m p\u001b[38;5;241m.\u001b[39mgrad \u001b[38;5;129;01mis\u001b[39;00m \u001b[38;5;129;01mnot\u001b[39;00m \u001b[38;5;28;01mNone\u001b[39;00m:\n\u001b[1;32m    951\u001b[0m     \u001b[38;5;28;01mif\u001b[39;00m set_to_none:\n\u001b[0;32m--> 952\u001b[0m         p\u001b[38;5;241m.\u001b[39mgrad \u001b[38;5;241m=\u001b[39m \u001b[38;5;28;01mNone\u001b[39;00m\n\u001b[1;32m    953\u001b[0m     \u001b[38;5;28;01melse\u001b[39;00m:\n\u001b[1;32m    954\u001b[0m         \u001b[38;5;28;01mif\u001b[39;00m p\u001b[38;5;241m.\u001b[39mgrad\u001b[38;5;241m.\u001b[39mgrad_fn \u001b[38;5;129;01mis\u001b[39;00m \u001b[38;5;129;01mnot\u001b[39;00m \u001b[38;5;28;01mNone\u001b[39;00m:\n",
      "\u001b[0;31mKeyboardInterrupt\u001b[0m: "
     ]
    }
   ],
   "source": [
    "\n",
    "# Define the hyperparameters to search over for tuning\n",
    "learning_rates = [0.001, 0.0005, 0.0001]\n",
    "weight_decays = [0, 0.01, 0.001]\n",
    "# Hyperparameters to add???\n",
    "# batch size\n",
    "# optimizer\n",
    "# momentum \n",
    "# IoU threshold\n",
    "\n",
    "\n",
    "# Phase 2: Hyperparameter Tuning for the best architecture\n",
    "best_model = None\n",
    "best_score = -float('inf')\n",
    "best_hyperparams = {}\n",
    "\n",
    "for lr, wd in itertools.product(learning_rates, weight_decays):\n",
    "    print(f\"Tuning {best_model_arch.__name__} with lr={lr}, weight_decay={wd}:\")\n",
    "    \n",
    "    # Instantiate a new model for each hyperparameter combination\n",
    "    model = best_model_arch()\n",
    "    model = model_class().to(device=device, dtype=torch.double)\n",
    "\n",
    "    # Create an optimizer with current hyperparameters\n",
    "    optimizer = optim.Adam(model.parameters(), lr=lr, weight_decay=wd)\n",
    "    \n",
    "    # Train the model on the training data\n",
    "    losses = train(\n",
    "        n_epochs=1,\n",
    "        optimizer=optimizer,\n",
    "        model=model,\n",
    "        loss_func=loss_func,\n",
    "        train_loader=train_loader\n",
    "    )\n",
    "    \n",
    "    # Evaluate the model on the validation data\n",
    "    performance = overall_performance(model, val_loader, preprocessor)\n",
    "    print(f\"Overall performance: {performance:.4f}\\n\")\n",
    "    \n",
    "    # Update the best model if performance improves\n",
    "    if performance > best_score:\n",
    "        best_score = performance\n",
    "        best_model = model\n",
    "        best_hyperparams = {\n",
    "            'model': best_model_arch.__name__,\n",
    "            'lr': lr,\n",
    "            'weight_decay': wd\n",
    "        }\n",
    "\n",
    "print(\"Best hyperparameters:\", best_hyperparams)\n",
    "print(\"Best overall performance on validation set:\", best_score)\n",
    "\n",
    "# Final Testing on the test set\n",
    "# Assuming you have a test_loader defined for your test_data\n",
    "test_overall_performance = overall_performance(best_model, test_loader, preprocessor)\n",
    "print(f\"Test overall performance: {test_overall_performance:.4f}\")\n"
   ]
  },
  {
   "cell_type": "code",
   "execution_count": null,
   "metadata": {},
   "outputs": [],
   "source": []
  }
 ],
 "metadata": {
  "kernelspec": {
   "display_name": "inf265",
   "language": "python",
   "name": "python3"
  },
  "language_info": {
   "codemirror_mode": {
    "name": "ipython",
    "version": 3
   },
   "file_extension": ".py",
   "mimetype": "text/x-python",
   "name": "python",
   "nbconvert_exporter": "python",
   "pygments_lexer": "ipython3",
   "version": "3.12.2"
  }
 },
 "nbformat": 4,
 "nbformat_minor": 2
}
